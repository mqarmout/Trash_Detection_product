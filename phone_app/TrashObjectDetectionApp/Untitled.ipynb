{
 "cells": [
  {
   "cell_type": "code",
   "execution_count": 1,
   "id": "750d1034",
   "metadata": {},
   "outputs": [
    {
     "name": "stdout",
     "output_type": "stream",
     "text": [
      "Collecting beeware\n",
      "  Downloading beeware-0.3.0-py2.py3-none-any.whl.metadata (3.3 kB)\n",
      "Collecting toga\n",
      "  Downloading toga-0.4.8-py3-none-any.whl.metadata (4.1 kB)\n",
      "Collecting briefcase>=0.3.0 (from beeware)\n",
      "  Downloading briefcase-0.3.20-py3-none-any.whl.metadata (5.7 kB)\n",
      "Collecting toga-winforms==0.4.8 (from toga)\n",
      "  Downloading toga_winforms-0.4.8-py3-none-any.whl.metadata (3.2 kB)\n",
      "Collecting pythonnet>=3.0.0 (from toga-winforms==0.4.8->toga)\n",
      "  Downloading pythonnet-3.0.4-py3-none-any.whl.metadata (6.6 kB)\n",
      "Collecting toga-core==0.4.8 (from toga-winforms==0.4.8->toga)\n",
      "  Downloading toga_core-0.4.8-py3-none-any.whl.metadata (5.3 kB)\n",
      "Collecting travertino>=0.3.0 (from toga-core==0.4.8->toga-winforms==0.4.8->toga)\n",
      "  Downloading travertino-0.3.0-py3-none-any.whl.metadata (4.3 kB)\n",
      "Requirement already satisfied: packaging>=22.0 in d:\\anaconda\\lib\\site-packages (from briefcase>=0.3.0->beeware) (23.0)\n",
      "Requirement already satisfied: pip>=23.1.2 in d:\\anaconda\\lib\\site-packages (from briefcase>=0.3.0->beeware) (24.2)\n",
      "Requirement already satisfied: setuptools>=60 in d:\\anaconda\\lib\\site-packages (from briefcase>=0.3.0->beeware) (74.1.2)\n",
      "Requirement already satisfied: wheel>=0.37 in d:\\anaconda\\lib\\site-packages (from briefcase>=0.3.0->beeware) (0.44.0)\n",
      "Collecting build>=0.10 (from briefcase>=0.3.0->beeware)\n",
      "  Downloading build-1.2.2.post1-py3-none-any.whl.metadata (6.5 kB)\n",
      "Collecting cookiecutter<3.0,>=2.6.0 (from briefcase>=0.3.0->beeware)\n",
      "  Downloading cookiecutter-2.6.0-py3-none-any.whl.metadata (7.3 kB)\n",
      "Collecting GitPython<4.0,>=3.1 (from briefcase>=0.3.0->beeware)\n",
      "  Downloading GitPython-3.1.43-py3-none-any.whl.metadata (13 kB)\n",
      "Collecting platformdirs<5.0,>=2.6 (from briefcase>=0.3.0->beeware)\n",
      "  Downloading platformdirs-4.3.6-py3-none-any.whl.metadata (11 kB)\n",
      "Requirement already satisfied: psutil<7.0,>=5.9 in d:\\anaconda\\lib\\site-packages (from briefcase>=0.3.0->beeware) (5.9.0)\n",
      "Collecting python-dateutil>=2.9.0.post0 (from briefcase>=0.3.0->beeware)\n",
      "  Downloading python_dateutil-2.9.0.post0-py2.py3-none-any.whl.metadata (8.4 kB)\n",
      "Requirement already satisfied: requests<3.0,>=2.28 in d:\\anaconda\\lib\\site-packages (from briefcase>=0.3.0->beeware) (2.28.1)\n",
      "Requirement already satisfied: rich<14.0,>=12.6 in d:\\anaconda\\lib\\site-packages (from briefcase>=0.3.0->beeware) (13.8.0)\n",
      "Collecting tomli-w<2.0,>=1.0 (from briefcase>=0.3.0->beeware)\n",
      "  Downloading tomli_w-1.1.0-py3-none-any.whl.metadata (5.7 kB)\n",
      "Collecting pyproject_hooks (from build>=0.10->briefcase>=0.3.0->beeware)\n",
      "  Downloading pyproject_hooks-1.2.0-py3-none-any.whl.metadata (1.3 kB)\n",
      "Requirement already satisfied: colorama in d:\\anaconda\\lib\\site-packages (from build>=0.10->briefcase>=0.3.0->beeware) (0.4.6)\n",
      "Requirement already satisfied: binaryornot>=0.4.4 in d:\\anaconda\\lib\\site-packages (from cookiecutter<3.0,>=2.6.0->briefcase>=0.3.0->beeware) (0.4.4)\n",
      "Requirement already satisfied: Jinja2<4.0.0,>=2.7 in d:\\anaconda\\lib\\site-packages (from cookiecutter<3.0,>=2.6.0->briefcase>=0.3.0->beeware) (3.1.2)\n",
      "Requirement already satisfied: click<9.0.0,>=7.0 in d:\\anaconda\\lib\\site-packages (from cookiecutter<3.0,>=2.6.0->briefcase>=0.3.0->beeware) (8.0.4)\n",
      "Requirement already satisfied: pyyaml>=5.3.1 in d:\\anaconda\\lib\\site-packages (from cookiecutter<3.0,>=2.6.0->briefcase>=0.3.0->beeware) (6.0)\n",
      "Requirement already satisfied: python-slugify>=4.0.0 in d:\\anaconda\\lib\\site-packages (from cookiecutter<3.0,>=2.6.0->briefcase>=0.3.0->beeware) (5.0.2)\n",
      "Requirement already satisfied: arrow in d:\\anaconda\\lib\\site-packages (from cookiecutter<3.0,>=2.6.0->briefcase>=0.3.0->beeware) (1.2.3)\n",
      "Collecting gitdb<5,>=4.0.1 (from GitPython<4.0,>=3.1->briefcase>=0.3.0->beeware)\n",
      "  Downloading gitdb-4.0.11-py3-none-any.whl.metadata (1.2 kB)\n",
      "Requirement already satisfied: six>=1.5 in d:\\anaconda\\lib\\site-packages (from python-dateutil>=2.9.0.post0->briefcase>=0.3.0->beeware) (1.16.0)\n",
      "Collecting clr-loader<0.3.0,>=0.2.6 (from pythonnet>=3.0.0->toga-winforms==0.4.8->toga)\n",
      "  Downloading clr_loader-0.2.6-py3-none-any.whl.metadata (1.4 kB)\n",
      "Requirement already satisfied: charset-normalizer<3,>=2 in d:\\anaconda\\lib\\site-packages (from requests<3.0,>=2.28->briefcase>=0.3.0->beeware) (2.0.4)\n",
      "Requirement already satisfied: idna<4,>=2.5 in d:\\anaconda\\lib\\site-packages (from requests<3.0,>=2.28->briefcase>=0.3.0->beeware) (3.4)\n",
      "Requirement already satisfied: urllib3<1.27,>=1.21.1 in d:\\anaconda\\lib\\site-packages (from requests<3.0,>=2.28->briefcase>=0.3.0->beeware) (1.26.16)\n",
      "Requirement already satisfied: certifi>=2017.4.17 in d:\\anaconda\\lib\\site-packages (from requests<3.0,>=2.28->briefcase>=0.3.0->beeware) (2023.5.7)\n",
      "Requirement already satisfied: markdown-it-py>=2.2.0 in d:\\anaconda\\lib\\site-packages (from rich<14.0,>=12.6->briefcase>=0.3.0->beeware) (2.2.0)\n",
      "Requirement already satisfied: pygments<3.0.0,>=2.13.0 in d:\\anaconda\\lib\\site-packages (from rich<14.0,>=12.6->briefcase>=0.3.0->beeware) (2.15.1)\n",
      "Requirement already satisfied: chardet>=3.0.2 in d:\\anaconda\\lib\\site-packages (from binaryornot>=0.4.4->cookiecutter<3.0,>=2.6.0->briefcase>=0.3.0->beeware) (4.0.0)\n",
      "Requirement already satisfied: cffi>=1.13 in d:\\anaconda\\lib\\site-packages (from clr-loader<0.3.0,>=0.2.6->pythonnet>=3.0.0->toga-winforms==0.4.8->toga) (1.15.1)\n",
      "Collecting smmap<6,>=3.0.1 (from gitdb<5,>=4.0.1->GitPython<4.0,>=3.1->briefcase>=0.3.0->beeware)\n",
      "  Downloading smmap-5.0.1-py3-none-any.whl.metadata (4.3 kB)\n",
      "Requirement already satisfied: MarkupSafe>=2.0 in d:\\anaconda\\lib\\site-packages (from Jinja2<4.0.0,>=2.7->cookiecutter<3.0,>=2.6.0->briefcase>=0.3.0->beeware) (2.1.1)\n",
      "Requirement already satisfied: mdurl~=0.1 in d:\\anaconda\\lib\\site-packages (from markdown-it-py>=2.2.0->rich<14.0,>=12.6->briefcase>=0.3.0->beeware) (0.1.0)\n",
      "Requirement already satisfied: text-unidecode>=1.3 in d:\\anaconda\\lib\\site-packages (from python-slugify>=4.0.0->cookiecutter<3.0,>=2.6.0->briefcase>=0.3.0->beeware) (1.3)\n",
      "Requirement already satisfied: pycparser in d:\\anaconda\\lib\\site-packages (from cffi>=1.13->clr-loader<0.3.0,>=0.2.6->pythonnet>=3.0.0->toga-winforms==0.4.8->toga) (2.21)\n",
      "Downloading beeware-0.3.0-py2.py3-none-any.whl (3.0 kB)\n",
      "Downloading toga-0.4.8-py3-none-any.whl (3.3 kB)\n",
      "Downloading toga_winforms-0.4.8-py3-none-any.whl (454 kB)\n",
      "Downloading toga_core-0.4.8-py3-none-any.whl (139 kB)\n",
      "Downloading briefcase-0.3.20-py3-none-any.whl (234 kB)\n",
      "Downloading build-1.2.2.post1-py3-none-any.whl (22 kB)\n",
      "Downloading cookiecutter-2.6.0-py3-none-any.whl (39 kB)\n",
      "Downloading GitPython-3.1.43-py3-none-any.whl (207 kB)\n",
      "Downloading platformdirs-4.3.6-py3-none-any.whl (18 kB)\n",
      "Downloading python_dateutil-2.9.0.post0-py2.py3-none-any.whl (229 kB)\n",
      "Downloading pythonnet-3.0.4-py3-none-any.whl (295 kB)\n",
      "Downloading tomli_w-1.1.0-py3-none-any.whl (6.4 kB)\n",
      "Downloading clr_loader-0.2.6-py3-none-any.whl (51 kB)\n",
      "Downloading gitdb-4.0.11-py3-none-any.whl (62 kB)\n",
      "Downloading travertino-0.3.0-py3-none-any.whl (16 kB)\n",
      "Downloading pyproject_hooks-1.2.0-py3-none-any.whl (10 kB)\n",
      "Downloading smmap-5.0.1-py3-none-any.whl (24 kB)\n",
      "Installing collected packages: travertino, tomli-w, smmap, python-dateutil, pyproject_hooks, platformdirs, toga-core, gitdb, clr-loader, build, pythonnet, GitPython, cookiecutter, toga-winforms, briefcase, toga, beeware\n",
      "  Attempting uninstall: python-dateutil\n",
      "    Found existing installation: python-dateutil 2.8.2\n",
      "    Uninstalling python-dateutil-2.8.2:\n",
      "      Successfully uninstalled python-dateutil-2.8.2\n",
      "  Attempting uninstall: platformdirs\n",
      "    Found existing installation: platformdirs 2.5.2\n",
      "    Uninstalling platformdirs-2.5.2:\n",
      "      Successfully uninstalled platformdirs-2.5.2\n",
      "  Attempting uninstall: cookiecutter\n",
      "    Found existing installation: cookiecutter 1.7.3\n",
      "    Uninstalling cookiecutter-1.7.3:\n",
      "      Successfully uninstalled cookiecutter-1.7.3\n",
      "Successfully installed GitPython-3.1.43 beeware-0.3.0 briefcase-0.3.20 build-1.2.2.post1 clr-loader-0.2.6 cookiecutter-2.6.0 gitdb-4.0.11 platformdirs-4.3.6 pyproject_hooks-1.2.0 python-dateutil-2.9.0.post0 pythonnet-3.0.4 smmap-5.0.1 toga-0.4.8 toga-core-0.4.8 toga-winforms-0.4.8 tomli-w-1.1.0 travertino-0.3.0\n",
      "Note: you may need to restart the kernel to use updated packages.\n"
     ]
    },
    {
     "name": "stderr",
     "output_type": "stream",
     "text": [
      "ERROR: pip's dependency resolver does not currently take into account all the packages that are installed. This behaviour is the source of the following dependency conflicts.\n",
      "conda-repo-cli 1.0.41 requires python-dateutil==2.8.2, but you have python-dateutil 2.9.0.post0 which is incompatible.\n",
      "python-lsp-black 1.2.1 requires black>=22.3.0, but you have black 0.0 which is incompatible.\n",
      "\n",
      "[notice] A new release of pip is available: 24.2 -> 24.3.1\n",
      "[notice] To update, run: python.exe -m pip install --upgrade pip\n"
     ]
    }
   ],
   "source": [
    "pip install beeware toga"
   ]
  },
  {
   "cell_type": "code",
   "execution_count": 6,
   "id": "8e6f8669",
   "metadata": {},
   "outputs": [
    {
     "name": "stdout",
     "output_type": "stream",
     "text": [
      "0.3.20\n"
     ]
    }
   ],
   "source": [
    "!briefcase --version"
   ]
  },
  {
   "cell_type": "code",
   "execution_count": 7,
   "id": "8e1d4b19",
   "metadata": {},
   "outputs": [
    {
     "name": "stdout",
     "output_type": "stream",
     "text": [
      "Name: briefcase\n",
      "Version: 0.3.20\n",
      "Summary: Tools to support converting a Python project into a standalone native application.\n",
      "Home-page: https://beeware.org/briefcase\n",
      "Author: \n",
      "Author-email: Russell Keith-Magee <russell@keith-magee.com>\n",
      "License: New BSD\n",
      "Location: D:\\Anaconda\\Lib\\site-packages\n",
      "Requires: build, cookiecutter, GitPython, packaging, pip, platformdirs, psutil, python-dateutil, requests, rich, setuptools, tomli-w, wheel\n",
      "Required-by: beeware\n",
      "Note: you may need to restart the kernel to use updated packages.\n"
     ]
    }
   ],
   "source": [
    "pip show briefcase\n"
   ]
  },
  {
   "cell_type": "code",
   "execution_count": 8,
   "id": "01c62747",
   "metadata": {},
   "outputs": [
    {
     "name": "stdout",
     "output_type": "stream",
     "text": [
      "Collecting pipenvNote: you may need to restart the kernel to use updated packages.\n"
     ]
    },
    {
     "name": "stderr",
     "output_type": "stream",
     "text": [
      "ERROR: pip's dependency resolver does not currently take into account all the packages that are installed. This behaviour is the source of the following dependency conflicts.\n",
      "datasets 3.0.0 requires requests>=2.32.2, but you have requests 2.28.1 which is incompatible.\n",
      "\n",
      "[notice] A new release of pip is available: 24.2 -> 24.3.1\n",
      "[notice] To update, run: python.exe -m pip install --upgrade pip\n"
     ]
    },
    {
     "name": "stdout",
     "output_type": "stream",
     "text": [
      "\n",
      "  Downloading pipenv-2024.4.0-py3-none-any.whl.metadata (19 kB)\n",
      "Requirement already satisfied: certifi in d:\\anaconda\\lib\\site-packages (from pipenv) (2023.5.7)\n",
      "Requirement already satisfied: packaging>=22 in d:\\anaconda\\lib\\site-packages (from pipenv) (23.0)\n",
      "Requirement already satisfied: setuptools>=67 in d:\\anaconda\\lib\\site-packages (from pipenv) (74.1.2)\n",
      "Collecting virtualenv>=20.24.2 (from pipenv)\n",
      "  Downloading virtualenv-20.28.0-py3-none-any.whl.metadata (4.4 kB)\n",
      "Collecting distlib<1,>=0.3.7 (from virtualenv>=20.24.2->pipenv)\n",
      "  Downloading distlib-0.3.9-py2.py3-none-any.whl.metadata (5.2 kB)\n",
      "Collecting filelock<4,>=3.12.2 (from virtualenv>=20.24.2->pipenv)\n",
      "  Downloading filelock-3.16.1-py3-none-any.whl.metadata (2.9 kB)\n",
      "Requirement already satisfied: platformdirs<5,>=3.9.1 in d:\\anaconda\\lib\\site-packages (from virtualenv>=20.24.2->pipenv) (4.3.6)\n",
      "Downloading pipenv-2024.4.0-py3-none-any.whl (3.0 MB)\n",
      "   ---------------------------------------- 0.0/3.0 MB ? eta -:--:--\n",
      "   ------------- -------------------------- 1.0/3.0 MB 8.4 MB/s eta 0:00:01\n",
      "   ------------------------------ --------- 2.4/3.0 MB 7.1 MB/s eta 0:00:01\n",
      "   ------------------------------------- -- 2.9/3.0 MB 5.8 MB/s eta 0:00:01\n",
      "   ---------------------------------------- 3.0/3.0 MB 4.8 MB/s eta 0:00:00\n",
      "Downloading virtualenv-20.28.0-py3-none-any.whl (4.3 MB)\n",
      "   ---------------------------------------- 0.0/4.3 MB ? eta -:--:--\n",
      "   -- ------------------------------------- 0.3/4.3 MB ? eta -:--:--\n",
      "   --------- ------------------------------ 1.0/4.3 MB 2.3 MB/s eta 0:00:02\n",
      "   ------------------------ --------------- 2.6/4.3 MB 4.6 MB/s eta 0:00:01\n",
      "   ---------------------------------- ----- 3.7/4.3 MB 5.2 MB/s eta 0:00:01\n",
      "   ------------------------------------ --- 3.9/4.3 MB 4.7 MB/s eta 0:00:01\n",
      "   ---------------------------------------- 4.3/4.3 MB 3.9 MB/s eta 0:00:00\n",
      "Downloading distlib-0.3.9-py2.py3-none-any.whl (468 kB)\n",
      "Downloading filelock-3.16.1-py3-none-any.whl (16 kB)\n",
      "Installing collected packages: distlib, filelock, virtualenv, pipenv\n",
      "  Attempting uninstall: filelock\n",
      "    Found existing installation: filelock 3.9.0\n",
      "    Uninstalling filelock-3.9.0:\n",
      "      Successfully uninstalled filelock-3.9.0\n",
      "Successfully installed distlib-0.3.9 filelock-3.16.1 pipenv-2024.4.0 virtualenv-20.28.0\n"
     ]
    }
   ],
   "source": [
    "pip install pipenv"
   ]
  },
  {
   "cell_type": "code",
   "execution_count": 9,
   "id": "8a938870",
   "metadata": {},
   "outputs": [
    {
     "data": {
      "text/html": [
       "<pre style=\"white-space:pre;overflow-x:auto;line-height:normal;font-family:Menlo,'DejaVu Sans Mono',consolas,'Courier New',monospace\"></pre>\n"
      ],
      "text/plain": []
     },
     "metadata": {},
     "output_type": "display_data"
    }
   ],
   "source": [
    "import pipenv"
   ]
  },
  {
   "cell_type": "code",
   "execution_count": 12,
   "id": "524c1f29",
   "metadata": {},
   "outputs": [
    {
     "name": "stdout",
     "output_type": "stream",
     "text": [
      "Requirement already satisfied: opencv-python in d:\\anaconda\\lib\\site-packages (4.10.0.84)\n",
      "Requirement already satisfied: numpy>=1.21.2 in d:\\anaconda\\lib\\site-packages (from opencv-python) (1.24.4)\n",
      "Note: you may need to restart the kernel to use updated packages.\n"
     ]
    }
   ],
   "source": [
    "pip install opencv-python"
   ]
  },
  {
   "cell_type": "code",
   "execution_count": null,
   "id": "a081441a",
   "metadata": {},
   "outputs": [],
   "source": []
  }
 ],
 "metadata": {
  "kernelspec": {
   "display_name": "Python 3 (ipykernel)",
   "language": "python",
   "name": "python3"
  },
  "language_info": {
   "codemirror_mode": {
    "name": "ipython",
    "version": 3
   },
   "file_extension": ".py",
   "mimetype": "text/x-python",
   "name": "python",
   "nbconvert_exporter": "python",
   "pygments_lexer": "ipython3",
   "version": "3.11.3"
  }
 },
 "nbformat": 4,
 "nbformat_minor": 5
}
